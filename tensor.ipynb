{
 "cells": [
  {
   "cell_type": "markdown",
   "metadata": {},
   "source": [
    "# Simple tensor"
   ]
  },
  {
   "cell_type": "code",
   "execution_count": 3,
   "metadata": {},
   "outputs": [
    {
     "name": "stdout",
     "output_type": "stream",
     "text": [
      "[1 2 3 4 5]\n",
      "[ 2  4  6  8 10]\n"
     ]
    }
   ],
   "source": [
    "import numpy as np\n",
    "\n",
    "class Tensor (object):\n",
    "    def __init__(self, data):\n",
    "        self.data = np.array(data)\n",
    "\n",
    "    def __add__(self, other):\n",
    "        return Tensor(self.data + other.data)\n",
    "    \n",
    "    def __repr__(self):\n",
    "        return str(self.data.__repr__())\n",
    "    \n",
    "    def __str__(self):\n",
    "        return str(self.data.__str__())\n",
    "    \n",
    "\n",
    "x = Tensor([1, 2, 3, 4, 5])\n",
    "print(x)\n",
    "\n",
    "y = x + x\n",
    "print(y)"
   ]
  },
  {
   "cell_type": "markdown",
   "metadata": {},
   "source": [
    "# Tensor with autograd support."
   ]
  },
  {
   "cell_type": "code",
   "execution_count": 11,
   "metadata": {},
   "outputs": [
    {
     "name": "stdout",
     "output_type": "stream",
     "text": [
      "[1 1 1 1 1]\n",
      "[1 1 1 1 1]\n",
      "[array([1, 2, 3, 4, 5]), array([2, 2, 2, 2, 2])]\n",
      "add\n",
      "[False False False False False]\n"
     ]
    }
   ],
   "source": [
    "import numpy as np\n",
    "\n",
    "# Define a class to represent a tensor\n",
    "class Tensor (object):\n",
    "    # Initialize the tensor with data, creators, and creation operation\n",
    "    def __init__(self, data, creators=None, creation_op=None):\n",
    "        # Convert the data to a numpy array\n",
    "        self.data = np.array(data)\n",
    "        # Store the creation operation (e.g., \"add\")\n",
    "        self.creation_op = creation_op\n",
    "        # Store the creators of this tensor (if any)\n",
    "        self.creators = creators\n",
    "        # Initialize the gradient to None\n",
    "        self.grad = None\n",
    "\n",
    "    # Perform backpropagation to compute the gradient\n",
    "    def backward(self, grad):\n",
    "        # Store the gradient\n",
    "        self.grad = grad\n",
    "\n",
    "        # If this tensor was created by an \"add\" operation\n",
    "        if (self.creation_op == \"add\"):\n",
    "            # Backpropagate the gradient to the creators\n",
    "            self.creators[0].backward(grad)\n",
    "            self.creators[1].backward(grad)\n",
    "\n",
    "    # Overload the \"+\" operator to add two tensors\n",
    "    def __add__(self, other):\n",
    "        # Create a new tensor with the sum of the data\n",
    "        return Tensor(self.data + other.data, creators=[self, other], creation_op=\"add\")\n",
    "\n",
    "    # Return a string representation of the tensor\n",
    "    def __repr__(self):\n",
    "        return str(self.data.__repr__())\n",
    "\n",
    "    # Return a string representation of the tensor\n",
    "    def __str__(self):\n",
    "        return str(self.data.__str__())\n",
    "\n",
    "# Create two tensors\n",
    "x = Tensor([1, 2, 3, 4, 5])\n",
    "y = Tensor([2, 2, 2, 2, 2])\n",
    "\n",
    "# Add the two tensors\n",
    "z = x + y\n",
    "\n",
    "# Perform backpropagation with a gradient of 1\n",
    "z.backward(Tensor(np.array([1, 1, 1, 1, 1])))\n",
    "\n",
    "# Print the gradients of x and y\n",
    "print(x.grad) \n",
    "print(y.grad) \n",
    "\n",
    "# Print the creators of z\n",
    "print(z.creators) \n",
    "\n",
    "# Print the creation operation of z\n",
    "print(z.creation_op)\n",
    "\n",
    "a = Tensor([1, 2, 3, 4, 5])\n",
    "b = Tensor([2, 2, 2, 2, 2])\n",
    "c = Tensor([5, 4, 3, 2, 1])\n",
    "\n",
    "d = a + b\n",
    "e = b + c\n",
    "f = d + e\n",
    "f.backward(Tensor(np.array([1, 1, 1, 1, 1])))\n",
    "print(b.grad.data == np.array([2, 2, 2, 2, 2]))"
   ]
  }
 ],
 "metadata": {
  "kernelspec": {
   "display_name": "env",
   "language": "python",
   "name": "python3"
  },
  "language_info": {
   "codemirror_mode": {
    "name": "ipython",
    "version": 3
   },
   "file_extension": ".py",
   "mimetype": "text/x-python",
   "name": "python",
   "nbconvert_exporter": "python",
   "pygments_lexer": "ipython3",
   "version": "3.12.4"
  }
 },
 "nbformat": 4,
 "nbformat_minor": 2
}
