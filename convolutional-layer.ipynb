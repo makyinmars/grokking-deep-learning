{
 "cells": [
  {
   "cell_type": "markdown",
   "metadata": {},
   "source": [
    "# Convolutional Layer"
   ]
  },
  {
   "cell_type": "code",
   "execution_count": null,
   "metadata": {
    "vscode": {
     "languageId": "plaintext"
    }
   },
   "outputs": [],
   "source": [
    "import numpy as np, sys\n",
    "np.random.seed(1)\n",
    "from keras.datasets import mnist\n",
    "\n",
    "# Load MNIST dataset\n",
    "(x_train, y_train), (x_test, y_test) = mnist.load_data()\n",
    "\n",
    "# Prepare training data: take first 1000 images, flatten and normalize\n",
    "images, labels = (x_train[0:1000].reshape(1000,28*28) / 255, y_train[0:1000])\n",
    "\n",
    "# Convert labels to one-hot encoding\n",
    "one_hot_labels = np.zeros((len(labels),10))\n",
    "for i,l in enumerate(labels):\n",
    "    one_hot_labels[i][l] = 1\n",
    "labels = one_hot_labels\n",
    "\n",
    "# Prepare test data: flatten and normalize images, convert labels to one-hot\n",
    "test_images = x_test.reshape(len(x_test),28*28) / 255\n",
    "test_labels = np.zeros((len(y_test),10))\n",
    "for i,l in enumerate(y_test):\n",
    "    test_labels[i][l] = 1\n",
    "\n",
    "# Activation function: hyperbolic tangent\n",
    "def tanh(x):\n",
    "    return np.tanh(x)\n",
    "\n",
    "# Derivative of tanh for backpropagation\n",
    "def tanh2deriv(output):\n",
    "    return 1 - (output ** 2)\n",
    "\n",
    "# Softmax activation function for output layer\n",
    "def softmax(x):\n",
    "    temp = np.exp(x)\n",
    "    return temp / np.sum(temp, axis=1, keepdims=True)\n",
    "\n",
    "# Hyperparameters\n",
    "alpha, iterations = (2, 300)  # Learning rate and number of training iterations\n",
    "pixels_per_image, num_labels = (784, 10)  # Input size and number of classes\n",
    "batch_size = 128  # Number of samples per batch\n",
    "\n",
    "# Input image dimensions\n",
    "input_rows = 28\n",
    "input_cols = 28\n",
    "\n",
    "# Convolutional kernel dimensions\n",
    "kernel_rows = 3\n",
    "kernel_cols = 3\n",
    "num_kernels = 16\n",
    "\n",
    "# Calculate size of hidden layer after convolution\n",
    "hidden_size = ((input_rows - kernel_rows) * (input_cols - kernel_cols)) * num_kernels\n",
    "\n",
    "# Initialize weights\n",
    "kernels = 0.02*np.random.random((kernel_rows*kernel_cols, num_kernels))-0.01\n",
    "weights_1_2 = 0.2*np.random.random((hidden_size, num_labels)) - 0.1\n",
    "\n",
    "# Function to extract a section of the image for convolution\n",
    "def get_image_section(layer, row_from, row_to, col_from, col_to):\n",
    "    section = layer[:,row_from:row_to,col_from:col_to]\n",
    "    return section.reshape(-1,1,row_to-row_from, col_to-col_from)"
   ]
  }
 ],
 "metadata": {
  "language_info": {
   "name": "python"
  }
 },
 "nbformat": 4,
 "nbformat_minor": 2
}
